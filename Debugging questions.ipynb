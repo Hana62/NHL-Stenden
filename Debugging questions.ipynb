{
 "cells": [
  {
   "cell_type": "code",
   "execution_count": 5,
   "id": "a209d472",
   "metadata": {},
   "outputs": [
    {
     "name": "stdout",
     "output_type": "stream",
     "text": [
      "apple\n"
     ]
    }
   ],
   "source": [
    "#Q1\n",
    "import numpy as np\n",
    "fruits = [\"apple\", \"orange\", \"melon\", \"kiwi\", \"strawberry\"]  # Example list\n",
    "def id_to_fruit(fruit_id, fruits):\n",
    "    if 0 <= fruit_id < len(fruits):\n",
    "        return fruits[fruit_id]\n",
    "    else:\n",
    "        return \"Invalid fruit ID\"\n",
    "    \n",
    "    \n",
    "name1 = id_to_fruit(0,fruits) \n",
    "name2 = id_to_fruit(1,fruits) \n",
    "name3 = id_to_fruit(2,fruits) \n",
    "name4 = id_to_fruit(3,fruits) \n",
    "name5 = id_to_fruit(4,fruits) \n",
    "\n",
    "print(name1)\n"
   ]
  },
  {
   "cell_type": "code",
   "execution_count": 6,
   "id": "8a0a6552",
   "metadata": {},
   "outputs": [
    {
     "name": "stdout",
     "output_type": "stream",
     "text": [
      "[[10  5 15  6  0]\n",
      " [11  3 13  6  0]\n",
      " [ 5  3 13  6  1]\n",
      " [ 4  4 13  6  1]\n",
      " [ 6  5 13 16  1]]\n",
      "[[ 5 10  6 15  0]\n",
      " [ 3 11  6 13  0]\n",
      " [ 3  5  6 13  1]\n",
      " [ 4  4  6 13  1]\n",
      " [ 5  6 16 13  1]]\n"
     ]
    }
   ],
   "source": [
    "#Q2\n",
    "#class swap does not exist in numpy\n",
    "def swap(coords):\n",
    "    # Create a copy to preserve the original array\n",
    "    new_coords = coords.copy()\n",
    "    new_coords[:, [0, 1, 2, 3]] = coords[:, [1, 0, 3, 2]]\n",
    "    return new_coords\n",
    "\n",
    "import numpy as np\n",
    "coords = np.array([[10, 5, 15, 6, 0],[11, 3, 13, 6, 0], [5, 3, 13, 6, 1],[4, 4, 13, 6, 1],[6, 5, 13, 16, 1]])\n",
    "swapped_coords = swap(coords)\n",
    "\n",
    "\n",
    "print(coords)\n",
    "print(swapped_coords)"
   ]
  },
  {
   "cell_type": "code",
   "execution_count": 27,
   "id": "4773ad98",
   "metadata": {},
   "outputs": [
    {
     "data": {
      "image/png": "[encoded data removed]",
      "text/plain": [
       "<Figure size 432x288 with 1 Axes>"
      ]
     },
     "metadata": {
      "needs_background": "light"
     },
     "output_type": "display_data"
    }
   ],
   "source": [
    "#Q3\n",
    "import matplotlib\n",
    "import csv# Havent import the csv module\n",
    "f = open(\"data_file.csv\", \"w\")\n",
    "w = csv.writer(f)\n",
    "# _ = w.writerow([\"precision\", \"recall\"])\n",
    "w.writerow([\"precision\", \"recall\"])# correct version\n",
    "w.writerows([[0.013,0.951],[0.376,0.851],[0.441,0.839], [0.570,0.758], [0.635,0.674], [0.721,0.604], [0.837,0.531],[0.860,0.453],[0.962,0.348], [0.982,0.273], [1.0,0.0]])\n",
    "f.close()\n",
    "\n",
    "def plot_data(csv_filename):\n",
    "    import pandas as pd\n",
    "    df = pd.read_csv(csv_filename)\n",
    "    # Plot the data (customize as needed)\n",
    "    plt.plot(df[\"precision\"], df[\"recall\"], marker=\"o\", label=\"Precision-Recall\")\n",
    "    plt.xlabel(\"Precision\")\n",
    "    plt.ylabel(\"Recall\")\n",
    "    plt.title(\"Precision-Recall Curve\")\n",
    "    plt.grid(True)\n",
    "    plt.legend()\n",
    "    plt.show()\n",
    "\n",
    "# Call the plot_data function\n",
    "plot_data(\"data_file.csv\")\n",
    "    \n"
   ]
  },
  {
   "cell_type": "code",
   "execution_count": null,
   "id": "e64f9c24",
   "metadata": {},
   "outputs": [],
   "source": [
    "#Q4\n",
    "# This typically occurs in the loop where the GAN is trained,\n",
    "#particularly if the number of training examples is not perfectly divisible by the `batch_size`. When the final batch of an epoch is processed, it may contain fewer examples than `batch_size`, but the code incorrectly assumes it to be of size `batch_size`. This leads to a mismatch in tensor sizes, especially evident when calculating losses or comparing the discriminator's outputs to expected values.\n",
    "# we make sure that any tensors created for comparison or target purposes within the training\n",
    "#loop are dynamically sized based on the actual number of examples in the batch being processed. This can often be addressed by using something like `current_batch_size = images.size(0)` (assuming `images` is the tensor containing the batch of images) and then ensuring all operations that depend on batch size use `current_batch_size` instead of the fixed `batch_size`.\n",
    "\n",
    "### Cosmetic Bug\n",
    "\n",
    "# a common cosmetic issue in tutorials or code examples involving GANs (and machine learning in general) might relate to:\n",
    "#- Logging or printing output in a way that is misleading or not informative.\n",
    "#- Visualization issues, where plots or images shown during training do not accurately reflect the training progress or results.\n",
    "#- Mislabeling in graphs, such as epochs or loss values, which could mislead the interpretation of the training process.\n"
   ]
  }
 ],
 "metadata": {
  "kernelspec": {
   "display_name": "Python 3 (ipykernel)",
   "language": "python",
   "name": "python3"
  },
  "language_info": {
   "codemirror_mode": {
    "name": "ipython",
    "version": 3
   },
   "file_extension": ".py",
   "mimetype": "text/x-python",
   "name": "python",
   "nbconvert_exporter": "python",
   "pygments_lexer": "ipython3",
   "version": "3.11.5"
  }
 },
 "nbformat": 4,
 "nbformat_minor": 5
}
